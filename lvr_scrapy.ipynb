{
 "cells": [
  {
   "cell_type": "markdown",
   "metadata": {},
   "source": [
    "## 儲存時價登入網頁為html"
   ]
  },
  {
   "cell_type": "code",
   "execution_count": 2,
   "metadata": {},
   "outputs": [],
   "source": [
    "from selenium import webdriver\n",
    "from bs4 import BeautifulSoup"
   ]
  },
  {
   "cell_type": "code",
   "execution_count": 3,
   "metadata": {},
   "outputs": [
    {
     "name": "stdout",
     "output_type": "stream",
     "text": [
      "內政部:::不動產交易實價查詢服務網\n",
      "寫入檔案lvr.html...\n"
     ]
    }
   ],
   "source": [
    "driver = webdriver.Chrome(\"/home/m27/Desktop/chromedriver\")\n",
    "driver.implicitly_wait(10)\n",
    "driver.get(\"https://lvr.land.moi.gov.tw/homePage.action\")\n",
    "print(driver.title)\n",
    "soup = BeautifulSoup(driver.page_source, \"lxml\")\n",
    "fp = open(\"lvr.html\",\"w\",encoding=\"utf8\")\n",
    "fp.write(soup.prettify())\n",
    "print(\"寫入檔案lvr.html...\")\n",
    "fp.close()\n",
    "driver.quit()"
   ]
  },
  {
   "cell_type": "markdown",
   "metadata": {},
   "source": [
    "## 分析html網頁內容"
   ]
  },
  {
   "cell_type": "markdown",
   "metadata": {},
   "source": [
    "不動產買賣按鈕的selector是#land"
   ]
  },
  {
   "cell_type": "markdown",
   "metadata": {},
   "source": [
    "## 登入不動產買賣的選單\n",
    "1. 關閉提示視窗\n",
    "2. 點擊當入不動產買賣的選單"
   ]
  },
  {
   "cell_type": "code",
   "execution_count": 10,
   "metadata": {},
   "outputs": [],
   "source": [
    "from selenium import webdriver\n",
    "\n",
    "driver = webdriver.Chrome(\"/home/m27/Desktop/chromedriver\")\n",
    "driver.implicitly_wait(10)\n",
    "url = \"https://lvr.land.moi.gov.tw/homePage.action\"\n",
    "driver.get(url)\n",
    "\n",
    "button = driver.find_element_by_css_selector(\"body > div:nth-child(5) > div.ui-dialog-titlebar.ui-widget-header.ui-corner-all.ui-helper-clearfix > a\")\n",
    "button.click()\n",
    "\n",
    "button = driver.find_element_by_css_selector(\"#land\")\n",
    "button.click()\n",
    "\n",
    "# 接著辨識驗證碼"
   ]
  },
  {
   "cell_type": "markdown",
   "metadata": {},
   "source": [
    "## 識別 + 去干擾驗證碼\n",
    "利用tesserocr庫 或是百度OCR"
   ]
  },
  {
   "cell_type": "code",
   "execution_count": null,
   "metadata": {},
   "outputs": [],
   "source": []
  },
  {
   "cell_type": "markdown",
   "metadata": {},
   "source": [
    "## 輸入驗證碼 確認送出"
   ]
  },
  {
   "cell_type": "code",
   "execution_count": 11,
   "metadata": {},
   "outputs": [],
   "source": [
    "rand_code = driver.find_element_by_css_selector(\"#rand_code\")\n",
    "rand_code.send_keys(\"7550\")\n",
    "\n",
    "button = driver.find_element_by_css_selector(\"#Image2\")\n",
    "button.click()"
   ]
  }
 ],
 "metadata": {
  "kernelspec": {
   "display_name": "Python (test01)",
   "language": "python",
   "name": "test01"
  },
  "language_info": {
   "codemirror_mode": {
    "name": "ipython",
    "version": 3
   },
   "file_extension": ".py",
   "mimetype": "text/x-python",
   "name": "python",
   "nbconvert_exporter": "python",
   "pygments_lexer": "ipython3",
   "version": "3.7.3"
  }
 },
 "nbformat": 4,
 "nbformat_minor": 2
}
